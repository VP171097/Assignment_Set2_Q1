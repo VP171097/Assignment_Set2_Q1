{
 "cells": [
  {
   "cell_type": "code",
   "execution_count": 1,
   "id": "e3eb36e2",
   "metadata": {},
   "outputs": [],
   "source": [
    "from scipy import stats"
   ]
  },
  {
   "cell_type": "code",
   "execution_count": 2,
   "id": "5d4f2e8a",
   "metadata": {},
   "outputs": [
    {
     "data": {
      "text/plain": [
       "0.625"
      ]
     },
     "execution_count": 2,
     "metadata": {},
     "output_type": "execute_result"
    }
   ],
   "source": [
    "#Find Z-Score at X = 50; \n",
    "#Z = (X - µ) / σ \n",
    "Z = (50-45)/8\n",
    "Z"
   ]
  },
  {
   "cell_type": "code",
   "execution_count": 3,
   "id": "6a9bf082",
   "metadata": {},
   "outputs": [
    {
     "data": {
      "text/plain": [
       "0.26598552904870054"
      ]
     },
     "execution_count": 3,
     "metadata": {},
     "output_type": "execute_result"
    }
   ],
   "source": [
    "#find probability P(X>50) = 1-stats.norm.cdf(abs(Z-score))\n",
    "P_greater_50 = 1-stats.norm.cdf(abs(Z))\n",
    "P_greater_50"
   ]
  },
  {
   "cell_type": "code",
   "execution_count": 4,
   "id": "ca00a5ed",
   "metadata": {},
   "outputs": [
    {
     "data": {
      "text/plain": [
       "0.7340144709512995"
      ]
     },
     "execution_count": 4,
     "metadata": {},
     "output_type": "execute_result"
    }
   ],
   "source": [
    "# OR find probability P(X<=50) = stats.norm.cdf(abs(Z_score))\n",
    "P_lesEq_50 = stats.norm.cdf(abs(Z))\n",
    "P_lesEq_50"
   ]
  }
 ],
 "metadata": {
  "kernelspec": {
   "display_name": "Python 3 (ipykernel)",
   "language": "python",
   "name": "python3"
  },
  "language_info": {
   "codemirror_mode": {
    "name": "ipython",
    "version": 3
   },
   "file_extension": ".py",
   "mimetype": "text/x-python",
   "name": "python",
   "nbconvert_exporter": "python",
   "pygments_lexer": "ipython3",
   "version": "3.9.7"
  }
 },
 "nbformat": 4,
 "nbformat_minor": 5
}
